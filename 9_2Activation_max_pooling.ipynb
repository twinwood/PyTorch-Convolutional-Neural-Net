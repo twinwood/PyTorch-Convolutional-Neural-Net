{
  "nbformat": 4,
  "nbformat_minor": 0,
  "metadata": {
    "kernelspec": {
      "display_name": "Python 3",
      "language": "python",
      "name": "python3"
    },
    "language_info": {
      "codemirror_mode": {
        "name": "ipython",
        "version": 3
      },
      "file_extension": ".py",
      "mimetype": "text/x-python",
      "name": "python",
      "nbconvert_exporter": "python",
      "pygments_lexer": "ipython3",
      "version": "3.7.6"
    },
    "colab": {
      "name": "9_2Activation_max_pooling.ipynb",
      "provenance": [],
      "collapsed_sections": [],
      "include_colab_link": true
    }
  },
  "cells": [
    {
      "cell_type": "markdown",
      "metadata": {
        "id": "view-in-github",
        "colab_type": "text"
      },
      "source": [
        "<a href=\"https://colab.research.google.com/github/twinwood/PyTorch-Convolutional-Neural-Net/blob/main/9_2Activation_max_pooling.ipynb\" target=\"_parent\"><img src=\"https://colab.research.google.com/assets/colab-badge.svg\" alt=\"Open In Colab\"/></a>"
      ]
    },
    {
      "cell_type": "markdown",
      "metadata": {
        "id": "vZFd6SwqFCMa"
      },
      "source": [
        "<center>\n",
        "    <img src=\"https://cf-courses-data.s3.us.cloud-object-storage.appdomain.cloud/IBMDeveloperSkillsNetwork-DL0110EN-SkillsNetwork/Template/module%201/images/IDSNlogo.png\" width=\"300\" alt=\"cognitiveclass.ai logo\"  />\n",
        "</center>\n"
      ]
    },
    {
      "cell_type": "markdown",
      "metadata": {
        "id": "1KOoqLbmFCMj"
      },
      "source": [
        "<h1 align=center><font size = 5>Activation function and Maxpooling </h1 >\n"
      ]
    },
    {
      "cell_type": "markdown",
      "metadata": {
        "id": "KfC8znEzFCMl"
      },
      "source": [
        "<h3>Objective for this Notebook<h3>    \n",
        "<h5> 1. Learn how to apply an activation function.</h5>\n",
        "<h5> 2. Learn about max pooling </h5>     \n"
      ]
    },
    {
      "cell_type": "markdown",
      "metadata": {
        "id": "AUi0ZpK-FCMm"
      },
      "source": [
        "# Table of Contents\n",
        "\n",
        "In this lab, you will learn two important components in building a convolutional neural network. The first is applying an activation function, which is analogous to building a regular network. You will also learn about max pooling. Max pooling reduces the number of parameters and makes the network less susceptible to changes in the image. \n",
        "\n",
        "<li><a href=\"#ref0\">Activation Functions</a></li>\n",
        "\n",
        "<li><a href=\"#ref1\">Max Pooling</a></li>\n",
        "\n",
        "<br>\n",
        "<p></p>\n",
        "Estimated Time Needed: <strong>25 min</strong>\n",
        "</div>\n",
        "\n",
        "<hr>\n"
      ]
    },
    {
      "cell_type": "markdown",
      "metadata": {
        "id": "OwTY7GRYFCMo"
      },
      "source": [
        "Import the following libraries:\n"
      ]
    },
    {
      "cell_type": "code",
      "metadata": {
        "id": "0109uBzWFCMp"
      },
      "source": [
        "import torch \n",
        "import torch.nn as nn\n",
        "import matplotlib.pyplot as plt\n",
        "import numpy as np\n",
        "from scipy import ndimage, misc\n"
      ],
      "execution_count": null,
      "outputs": []
    },
    {
      "cell_type": "markdown",
      "metadata": {
        "id": "6LxmncJGFCMq"
      },
      "source": [
        "<a id=\"ref0\"></a>\n",
        "\n",
        "<h2 align=center>Activation Functions  </h2>\n"
      ]
    },
    {
      "cell_type": "markdown",
      "metadata": {
        "id": "YenZPgFIFCMr"
      },
      "source": [
        "Just like a neural network, you apply an activation function to the activation map as shown in the following image:\n"
      ]
    },
    {
      "cell_type": "markdown",
      "metadata": {
        "id": "B5k2FdhzFCMs"
      },
      "source": [
        "<img src = \"https://s3-api.us-geo.objectstorage.softlayer.net/cf-courses-data/CognitiveClass/DL0110EN/notebook_images%20/chapter%206/6.1.3block_digram.png\" width = 1000, align = \"center\">\n"
      ]
    },
    {
      "cell_type": "markdown",
      "metadata": {
        "id": "isD508opFCMs"
      },
      "source": [
        "Create a kernel and image as usual. Set the bias to zero: \n"
      ]
    },
    {
      "cell_type": "code",
      "metadata": {
        "colab": {
          "base_uri": "https://localhost:8080/"
        },
        "id": "AOQ2nykSFCMt",
        "outputId": "ff32f6fd-43d6-4738-85fa-eb94bf594d6d"
      },
      "source": [
        "conv = nn.Conv2d(in_channels=1, out_channels=1,kernel_size=3)\n",
        "Gx=torch.tensor([[1.0,0,-1.0],[2.0,0,-2.0],[1.0,0,-1.0]])\n",
        "conv.state_dict()['weight'][0][0]=Gx\n",
        "conv.state_dict()['bias'][0]=0.0\n",
        "conv.state_dict()"
      ],
      "execution_count": null,
      "outputs": [
        {
          "output_type": "execute_result",
          "data": {
            "text/plain": [
              "OrderedDict([('weight', tensor([[[[ 1.,  0., -1.],\n",
              "                        [ 2.,  0., -2.],\n",
              "                        [ 1.,  0., -1.]]]])), ('bias', tensor([0.]))])"
            ]
          },
          "metadata": {
            "tags": []
          },
          "execution_count": 2
        }
      ]
    },
    {
      "cell_type": "code",
      "metadata": {
        "colab": {
          "base_uri": "https://localhost:8080/"
        },
        "id": "jkRlxSzuFCMw",
        "outputId": "9288256e-5cf0-4ee1-d185-98e040fd4b89"
      },
      "source": [
        "image=torch.zeros(1,1,5,5)\n",
        "image[0,0,:,2]=1\n",
        "image"
      ],
      "execution_count": null,
      "outputs": [
        {
          "output_type": "execute_result",
          "data": {
            "text/plain": [
              "tensor([[[[0., 0., 1., 0., 0.],\n",
              "          [0., 0., 1., 0., 0.],\n",
              "          [0., 0., 1., 0., 0.],\n",
              "          [0., 0., 1., 0., 0.],\n",
              "          [0., 0., 1., 0., 0.]]]])"
            ]
          },
          "metadata": {
            "tags": []
          },
          "execution_count": 3
        }
      ]
    },
    {
      "cell_type": "markdown",
      "metadata": {
        "id": "ceRvJ0ixFCMx"
      },
      "source": [
        "The following image shows the image and kernel: \n"
      ]
    },
    {
      "cell_type": "markdown",
      "metadata": {
        "id": "8IZqQeQWFCMy"
      },
      "source": [
        "<img src = \"https://s3-api.us-geo.objectstorage.softlayer.net/cf-courses-data/CognitiveClass/DL0110EN/notebook_images%20/chapter%206/6.1.3kernal_out.png\" width = 500, align = \"center\">\n"
      ]
    },
    {
      "cell_type": "markdown",
      "metadata": {
        "id": "kJVmgPPEFCMy"
      },
      "source": [
        "Apply convolution to the image: \n"
      ]
    },
    {
      "cell_type": "code",
      "metadata": {
        "colab": {
          "base_uri": "https://localhost:8080/"
        },
        "id": "0K_3Mr7BFCMz",
        "outputId": "2994bc32-98f2-40b5-a0cf-e6d2bb425efa"
      },
      "source": [
        "Z=conv(image)\n",
        "Z"
      ],
      "execution_count": null,
      "outputs": [
        {
          "output_type": "execute_result",
          "data": {
            "text/plain": [
              "tensor([[[[-4.,  0.,  4.],\n",
              "          [-4.,  0.,  4.],\n",
              "          [-4.,  0.,  4.]]]], grad_fn=<ThnnConv2DBackward>)"
            ]
          },
          "metadata": {
            "tags": []
          },
          "execution_count": 4
        }
      ]
    },
    {
      "cell_type": "markdown",
      "metadata": {
        "id": "wrA0IBtNFCM0"
      },
      "source": [
        "Apply the activation function to the activation map. This will apply the activation function to each element in the activation map.\n"
      ]
    },
    {
      "cell_type": "code",
      "metadata": {
        "colab": {
          "base_uri": "https://localhost:8080/"
        },
        "id": "3OX2jP5gFCM0",
        "outputId": "c870888c-1357-4b78-f4fc-d805bdc87b9d"
      },
      "source": [
        "A=torch.relu(Z)\n",
        "A"
      ],
      "execution_count": null,
      "outputs": [
        {
          "output_type": "execute_result",
          "data": {
            "text/plain": [
              "tensor([[[[0., 0., 4.],\n",
              "          [0., 0., 4.],\n",
              "          [0., 0., 4.]]]], grad_fn=<ReluBackward0>)"
            ]
          },
          "metadata": {
            "tags": []
          },
          "execution_count": 5
        }
      ]
    },
    {
      "cell_type": "markdown",
      "metadata": {
        "id": "vI5ROGe0FCM1"
      },
      "source": [
        "\n"
      ]
    },
    {
      "cell_type": "code",
      "metadata": {
        "colab": {
          "base_uri": "https://localhost:8080/"
        },
        "id": "sXMJdf1AFCM1",
        "outputId": "dd2b5e77-cd31-4ae4-9ff7-a94906ac515d"
      },
      "source": [
        "relu = nn.ReLU()\n",
        "relu(Z)"
      ],
      "execution_count": null,
      "outputs": [
        {
          "output_type": "execute_result",
          "data": {
            "text/plain": [
              "tensor([[[[0., 0., 4.],\n",
              "          [0., 0., 4.],\n",
              "          [0., 0., 4.]]]], grad_fn=<ReluBackward0>)"
            ]
          },
          "metadata": {
            "tags": []
          },
          "execution_count": 6
        }
      ]
    },
    {
      "cell_type": "markdown",
      "metadata": {
        "id": "q7iJVZBDFCM2"
      },
      "source": [
        "The process is summarized in the the following figure. The Relu function is applied to each element. All the elements less than zero are mapped to zero. The remaining components do not change.\n"
      ]
    },
    {
      "cell_type": "markdown",
      "metadata": {
        "id": "EgOIY6XLFCM2"
      },
      "source": [
        "<img src = \"https://s3-api.us-geo.objectstorage.softlayer.net/cf-courses-data/CognitiveClass/DL0110EN/notebook_images%20/chapter%206/6.2.3_block_example.gif\" width = 1000, align = \"center\">\n"
      ]
    },
    {
      "cell_type": "markdown",
      "metadata": {
        "id": "iK-hxcN4FCM2"
      },
      "source": [
        "<a id=\"ref1\"></a>\n",
        "\n",
        "<h2 align=center>Max Pooling </h2>\n"
      ]
    },
    {
      "cell_type": "markdown",
      "metadata": {
        "id": "R6AVXzjFFCM2"
      },
      "source": [
        "Consider the following image: \n"
      ]
    },
    {
      "cell_type": "code",
      "metadata": {
        "colab": {
          "base_uri": "https://localhost:8080/"
        },
        "id": "Wg23Ahk9FCM3",
        "outputId": "4923ca79-6956-46aa-f50a-f66688c467af"
      },
      "source": [
        "image1=torch.zeros(1,1,4,4)\n",
        "image1[0,0,0,:]=torch.tensor([1.0,2.0,3.0,-4.0])\n",
        "image1[0,0,1,:]=torch.tensor([0.0,2.0,-3.0,0.0])\n",
        "image1[0,0,2,:]=torch.tensor([0.0,2.0,3.0,1.0])\n",
        "\n",
        "image1"
      ],
      "execution_count": null,
      "outputs": [
        {
          "output_type": "execute_result",
          "data": {
            "text/plain": [
              "tensor([[[[ 1.,  2.,  3., -4.],\n",
              "          [ 0.,  2., -3.,  0.],\n",
              "          [ 0.,  2.,  3.,  1.],\n",
              "          [ 0.,  0.,  0.,  0.]]]])"
            ]
          },
          "metadata": {
            "tags": []
          },
          "execution_count": 7
        }
      ]
    },
    {
      "cell_type": "markdown",
      "metadata": {
        "id": "7Kr9cegeFCM3"
      },
      "source": [
        "Max pooling simply takes the maximum value in each region. Consider the following image. For the first region, max pooling simply takes the largest element in a yellow region.   \n"
      ]
    },
    {
      "cell_type": "markdown",
      "metadata": {
        "id": "feSi_V6EFCM3"
      },
      "source": [
        "<img src = \"https://s3-api.us-geo.objectstorage.softlayer.net/cf-courses-data/CognitiveClass/DL0110EN/notebook_images%20/chapter%206/6.1.3maxpool_1.png\" width = 500, align = \"center\">\n"
      ]
    },
    {
      "cell_type": "markdown",
      "metadata": {
        "id": "l9aCuMH7FCM4"
      },
      "source": [
        "The region shifts, and the process is repeated. The process is similar to convolution and is demonstrated in the following figure:\n"
      ]
    },
    {
      "cell_type": "markdown",
      "metadata": {
        "id": "ZCYzEGTTFCM4"
      },
      "source": [
        "<img src = \"https://s3-api.us-geo.objectstorage.softlayer.net/cf-courses-data/CognitiveClass/DL0110EN/notebook_images%20/chapter%206/6.1.3_max_pool_animation.gif\" width = 500, align = \"center\">\n"
      ]
    },
    {
      "cell_type": "markdown",
      "metadata": {
        "id": "8y1owO18FCM4"
      },
      "source": [
        "Create a maxpooling object in 2d as follows and perform max pooling as follows:  \n"
      ]
    },
    {
      "cell_type": "code",
      "metadata": {
        "colab": {
          "base_uri": "https://localhost:8080/"
        },
        "id": "JYE8GK_BFCM4",
        "outputId": "18d49c22-da72-4674-ab74-ae349a62b701"
      },
      "source": [
        "max1=torch.nn.MaxPool2d(2,stride=1)\n",
        "max1(image1)"
      ],
      "execution_count": null,
      "outputs": [
        {
          "output_type": "execute_result",
          "data": {
            "text/plain": [
              "tensor([[[[2., 3., 3.],\n",
              "          [2., 3., 3.],\n",
              "          [2., 3., 3.]]]])"
            ]
          },
          "metadata": {
            "tags": []
          },
          "execution_count": 8
        }
      ]
    },
    {
      "cell_type": "markdown",
      "metadata": {
        "id": "FUt-DsepFCM5"
      },
      "source": [
        "If the stride is set to None (its defaults setting), the process will simply take the maximum in a prescribed area and shift over accordingly as shown in the following figure:\n"
      ]
    },
    {
      "cell_type": "markdown",
      "metadata": {
        "id": "h7WHfY7hFCM5"
      },
      "source": [
        "<img src = \"https://s3-api.us-geo.objectstorage.softlayer.net/cf-courses-data/CognitiveClass/DL0110EN/notebook_images%20/chapter%206/6.1.3_max_pool_animation_2.gif\" width = 500, align = \"center\">\n"
      ]
    },
    {
      "cell_type": "markdown",
      "metadata": {
        "id": "YSiwgq9yFCM5"
      },
      "source": [
        "Here's the code in Pytorch:  \n"
      ]
    },
    {
      "cell_type": "code",
      "metadata": {
        "colab": {
          "base_uri": "https://localhost:8080/"
        },
        "id": "itIBUgTKFCM5",
        "outputId": "f994a2e5-9f4a-4420-b831-ef2618cc7f65"
      },
      "source": [
        "max1=torch.nn.MaxPool2d(2)\n",
        "max1(image1)"
      ],
      "execution_count": null,
      "outputs": [
        {
          "output_type": "execute_result",
          "data": {
            "text/plain": [
              "tensor([[[[2., 3.],\n",
              "          [2., 3.]]]])"
            ]
          },
          "metadata": {
            "tags": []
          },
          "execution_count": 9
        }
      ]
    },
    {
      "cell_type": "markdown",
      "metadata": {
        "id": "V6QpzwxPFCM6"
      },
      "source": [
        "<a href=\"https://dataplatform.cloud.ibm.com/registration/stepone?context=cpdaas&apps=data_science_experience,watson_machine_learning\"><img src=\"https://cf-courses-data.s3.us.cloud-object-storage.appdomain.cloud/IBMDeveloperSkillsNetwork-DL0110EN-SkillsNetwork/Template/module%201/images/Watson_Studio.png\"/></a>\n"
      ]
    },
    {
      "cell_type": "markdown",
      "metadata": {
        "id": "14Mfnm85FCM6"
      },
      "source": [
        "### About the Authors:\n",
        "\n",
        "[Joseph Santarcangelo](https://www.linkedin.com/in/joseph-s-50398b136/?utm_email=Email&utm_source=Nurture&utm_content=000026UJ&utm_term=10006555&utm_campaign=PLACEHOLDER&utm_id=SkillsNetwork-Courses-IBMDeveloperSkillsNetwork-DL0110EN-SkillsNetwork-20647811) has a PhD in Electrical Engineering. His research focused on using machine learning, signal processing, and computer vision to determine how videos impact human cognition. \n",
        "\n",
        "Other contributors: [Michelle Carey](https://www.linkedin.com/in/michelleccarey/?utm_email=Email&utm_source=Nurture&utm_content=000026UJ&utm_term=10006555&utm_campaign=PLACEHOLDER&utm_id=SkillsNetwork-Courses-IBMDeveloperSkillsNetwork-DL0110EN-SkillsNetwork-20647811), [Mavis Zhou](https://www.linkedin.com/in/jiahui-mavis-zhou-a4537814a/?utm_email=Email&utm_source=Nurture&utm_content=000026UJ&utm_term=10006555&utm_campaign=PLACEHOLDER&utm_id=SkillsNetwork-Courses-IBMDeveloperSkillsNetwork-DL0110EN-SkillsNetwork-20647811)  \n"
      ]
    },
    {
      "cell_type": "markdown",
      "metadata": {
        "id": "LKXVZOmTFCM6"
      },
      "source": [
        "## Change Log\n",
        "\n",
        "| Date (YYYY-MM-DD) | Version | Changed By | Change Description                                          |\n",
        "| ----------------- | ------- | ---------- | ----------------------------------------------------------- |\n",
        "| 2020-09-23        | 2.0     | Srishti    | Migrated Lab to Markdown and added to course repo in GitLab |\n",
        "\n",
        "<hr>\n",
        "\n",
        "## <h3 align=\"center\"> © IBM Corporation 2020. All rights reserved. <h3/>\n"
      ]
    }
  ]
}